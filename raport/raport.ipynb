{
 "cells": [
  {
   "cell_type": "markdown",
   "id": "89cabaa2-9634-4e7a-bd0c-17b59adf922a",
   "metadata": {},
   "source": [
    "# TECHNIKI PROGRAMOWANIA - projekt 3"
   ]
  },
  {
   "cell_type": "markdown",
   "id": "97e5eff2-e5d8-4fbb-b3fc-1fa87d68efb9",
   "metadata": {},
   "source": [
    "Maciej Kotowski 198001, Vladyslav Karasov 201280"
   ]
  },
  {
   "cell_type": "markdown",
   "id": "6c1ac878-0e59-4ce0-b684-3d3c3739c93b",
   "metadata": {},
   "source": [
    "### Wykorzystane biblioteki:"
   ]
  },
  {
   "cell_type": "markdown",
   "id": "ff760401-95e8-47c0-afcc-049580512990",
   "metadata": {},
   "source": [
    "* Matplotplusplus\n",
    "* AudioFile\n",
    "* Pybind11"
   ]
  },
  {
   "cell_type": "markdown",
   "id": "f6227c6b-066f-4dc9-83bd-82867a5ed743",
   "metadata": {},
   "source": [
    "### Funkcje:\n",
    "- Wizualizacja sygnału z wykorzystaniem biblioteki matplotplusplus\n",
    "- DFT i transformata odwrotna\n",
    "- Generowanie sygnałów o zadanej częstotliwości (sin, cos, prostokątny, piłokształtny)\n",
    "- Pochodna sygnału\n"
   ]
  },
  {
   "cell_type": "markdown",
   "id": "bf5aa065-60a2-4ce0-8883-eb15cd21626f",
   "metadata": {},
   "source": [
    "## Wizualizacja sygnału z wykorzystaniem biblioteki matplotplusplus"
   ]
  },
  {
   "cell_type": "markdown",
   "id": "50378791-2ac4-4b66-80be-40b22894c64b",
   "metadata": {},
   "source": [
    "Funkcja *visualizeSignal* przyjmuje na wartości zakres i ścieżkę do pliku audio"
   ]
  },
  {
   "cell_type": "code",
   "execution_count": 1,
   "id": "677e9af2-a0e1-4dd7-a382-6067fbfe8f5b",
   "metadata": {},
   "outputs": [
    {
     "data": {
      "text/plain": [
       "0"
      ]
     },
     "execution_count": 1,
     "metadata": {},
     "output_type": "execute_result"
    }
   ],
   "source": [
    "import scikit_build_example as m\n",
    "\n",
    "m.visualizeSignal(100, \"./test-audio.wav\")"
   ]
  },
  {
   "cell_type": "markdown",
   "id": "816d796c-3ae0-4155-ab4a-ff4d9377806e",
   "metadata": {
    "scrolled": true
   },
   "source": [
    "## Wizualizacja przykładowego sygnału"
   ]
  },
  {
   "cell_type": "markdown",
   "id": "bbaa31fd-a77b-41e5-80bb-c6ae84c11872",
   "metadata": {},
   "source": [
    "sygnał z pliku test-audio.wav, 100 próbek sygnału"
   ]
  },
  {
   "cell_type": "markdown",
   "id": "49bc7e23-5844-44b7-a1ba-f3c2c08bd404",
   "metadata": {},
   "source": [
    " ![](./img/visualizeSignal.jpg)"
   ]
  },
  {
   "cell_type": "markdown",
   "id": "0ad77f25-23e0-4d67-b5b0-875ce9e6b39f",
   "metadata": {},
   "source": [
    "## Pochodna Sygnału"
   ]
  },
  {
   "cell_type": "markdown",
   "id": "909b6843-cd54-4c71-adfe-abf900c1054e",
   "metadata": {},
   "source": [
    "pochodna sygnału z pliku test-audio.wav, 100 próbek sygnału"
   ]
  },
  {
   "cell_type": "code",
   "execution_count": 2,
   "id": "9c8ad0f4-9009-47b6-a781-d4f0a277ce2c",
   "metadata": {},
   "outputs": [
    {
     "data": {
      "text/plain": [
       "0"
      ]
     },
     "execution_count": 2,
     "metadata": {},
     "output_type": "execute_result"
    }
   ],
   "source": [
    "import scikit_build_example as m\n",
    "\n",
    "m.differenceSignal(100, \"./test-audio.wav\")"
   ]
  },
  {
   "cell_type": "markdown",
   "id": "526b05f7-5fc7-4370-aa15-4576edb72994",
   "metadata": {},
   "source": [
    " ![](./img/differenceSignal.jpg)"
   ]
  },
  {
   "cell_type": "markdown",
   "id": "8990299a-d49d-48b9-b428-86d2bc625a9f",
   "metadata": {},
   "source": [
    "## Sygnał sinusoidalny"
   ]
  },
  {
   "cell_type": "markdown",
   "id": "e583d213-83ed-4ad7-a3ce-d3f347fd4014",
   "metadata": {},
   "source": [
    "pierwsza liczba podawana na wejście funkcji odpowiada za tryb sygnału (0= sinusoidalny), druga za częstotliwość sygnału"
   ]
  },
  {
   "cell_type": "code",
   "execution_count": 5,
   "id": "3a347730-7db5-4c70-bb87-d546b76151df",
   "metadata": {},
   "outputs": [
    {
     "data": {
      "text/plain": [
       "0"
      ]
     },
     "execution_count": 5,
     "metadata": {},
     "output_type": "execute_result"
    }
   ],
   "source": [
    "import scikit_build_example as m\n",
    "m.generateSignal(0, 5)"
   ]
  },
  {
   "cell_type": "markdown",
   "id": "cf3e9422-2b49-4550-b739-f60e89c1cbe5",
   "metadata": {},
   "source": [
    " ![](./img/sin.jpg)"
   ]
  },
  {
   "cell_type": "markdown",
   "id": "5e360c6b-faa1-4e56-8216-f3180a0cd590",
   "metadata": {},
   "source": [
    "## Sygnał cosinusoidalny"
   ]
  },
  {
   "cell_type": "markdown",
   "id": "65845180-006a-43be-979a-7c27de7c249e",
   "metadata": {},
   "source": [
    "pierwsza liczba podawana na wejście funkcji odpowiada za tryb sygnału (1= cosinusoidalny), druga za częstotliwość sygnału"
   ]
  },
  {
   "cell_type": "code",
   "execution_count": 6,
   "id": "0c00a91a-a6c7-4815-a5a1-06ef57d6e09a",
   "metadata": {},
   "outputs": [
    {
     "data": {
      "text/plain": [
       "0"
      ]
     },
     "execution_count": 6,
     "metadata": {},
     "output_type": "execute_result"
    }
   ],
   "source": [
    "import scikit_build_example as m\n",
    "m.generateSignal(1, 5)"
   ]
  },
  {
   "cell_type": "markdown",
   "id": "4b29c538-fc93-4e1e-af71-6135838e0a9c",
   "metadata": {},
   "source": [
    " ![](./img/cos.jpg)"
   ]
  },
  {
   "cell_type": "markdown",
   "id": "af3269c7-d8a6-4eeb-95c5-aa1cc54973a0",
   "metadata": {},
   "source": [
    "## Sygnał prostokątny"
   ]
  },
  {
   "cell_type": "markdown",
   "id": "0460179c-e4ad-4add-b8ec-630a4b342405",
   "metadata": {},
   "source": [
    "pierwsza liczba podawana na wejście funkcji odpowiada za tryb sygnału (2= prostokątny), druga za częstotliwość sygnału"
   ]
  },
  {
   "cell_type": "code",
   "execution_count": 7,
   "id": "d95255d5-96f9-4056-9bfd-32bb716f1f59",
   "metadata": {},
   "outputs": [
    {
     "data": {
      "text/plain": [
       "0"
      ]
     },
     "execution_count": 7,
     "metadata": {},
     "output_type": "execute_result"
    }
   ],
   "source": [
    "import scikit_build_example as m\n",
    "m.generateSignal(2, 5)"
   ]
  },
  {
   "cell_type": "markdown",
   "id": "ecf950ab-5b17-4479-b094-e14adb79e258",
   "metadata": {},
   "source": [
    " ![](./img/stairs.jpg)"
   ]
  },
  {
   "cell_type": "markdown",
   "id": "84e1bee9-1d11-4464-91aa-4ef61af5e7f0",
   "metadata": {},
   "source": [
    "## Sygnał piłokształtny"
   ]
  },
  {
   "cell_type": "markdown",
   "id": "7e8681c3-1d6c-4ecf-a282-090716d14023",
   "metadata": {},
   "source": [
    "pierwsza liczba podawana na wejście funkcji odpowiada za tryb sygnału (3= piłokształtny), druga za częstotliwość sygnału"
   ]
  },
  {
   "cell_type": "code",
   "execution_count": 9,
   "id": "89fd8da8-8a54-4d0c-81a0-fc609dedc264",
   "metadata": {},
   "outputs": [
    {
     "data": {
      "text/plain": [
       "0"
      ]
     },
     "execution_count": 9,
     "metadata": {},
     "output_type": "execute_result"
    }
   ],
   "source": [
    "import scikit_build_example as m\n",
    "m.generateSignal(3, 5)"
   ]
  },
  {
   "cell_type": "markdown",
   "id": "e30c6228-2fae-4d23-a039-4965a0747a83",
   "metadata": {},
   "source": [
    " ![](./img/blade.jpg)"
   ]
  },
  {
   "cell_type": "markdown",
   "id": "d2a2df7e-76e2-4944-b356-098d21fcc7cb",
   "metadata": {},
   "source": [
    "## DFT"
   ]
  },
  {
   "cell_type": "markdown",
   "id": "d45df513-d097-4f1c-ac06-c00f5639bff7",
   "metadata": {},
   "source": [
    "Zgodnie ze wzorem zamienia skończony ciąg próbek sygnału w ciąg harmoniczny, do pierwszej tabeli wprowadza się część rzeczywistą sygnału do drugiej część urojoną .Poniżej podany przykład liczbowy "
   ]
  },
  {
   "cell_type": "code",
   "execution_count": 6,
   "id": "e12fc872-b234-4aec-81f1-c6caebbe057d",
   "metadata": {},
   "outputs": [
    {
     "data": {
      "text/plain": [
       "['2 0i', '-2 -2i', '0 -2i', '4 4i']"
      ]
     },
     "execution_count": 6,
     "metadata": {},
     "output_type": "execute_result"
    }
   ],
   "source": [
    "import scikit_build_example as m\n",
    "m.Discrete_Fourier_transform([1, 2, 0, -1], [0, -1, -1, 2])"
   ]
  },
  {
   "cell_type": "markdown",
   "id": "d0940584-9776-4ada-80c9-965e19c38952",
   "metadata": {},
   "source": [
    "## Transformata odwrotna do DFT"
   ]
  },
  {
   "cell_type": "markdown",
   "id": "b8f58231-65f9-4126-a72a-728d2f2cc44a",
   "metadata": {},
   "source": [
    "Zgodnie ze wzorem przekształca ciąg harmoniczny w skończonyy ciąg próbek sygnału, do pierwszej tabeli wprowadza się część rzeczywistą sygnału do drugiej część urojoną .Poniżej podany przykład liczbowy "
   ]
  },
  {
   "cell_type": "code",
   "execution_count": 7,
   "id": "02a92c21-5086-42fa-b0c0-73a58c039465",
   "metadata": {},
   "outputs": [
    {
     "data": {
      "text/plain": [
       "['1 0i', '2 -1i', '0 -1i', '-1 2i']"
      ]
     },
     "execution_count": 7,
     "metadata": {},
     "output_type": "execute_result"
    }
   ],
   "source": [
    "import scikit_build_example as m\n",
    "m.Inverse_Discrete_Fourier_transform([2, -2, 0, 4], [0, -2, -2, 4])"
   ]
  },
  {
   "cell_type": "markdown",
   "id": "00d1f4c9-a874-45b8-b125-e15505bc01db",
   "metadata": {},
   "source": [
    "*2024*"
   ]
  }
 ],
 "metadata": {
  "kernelspec": {
   "display_name": "test1",
   "language": "python",
   "name": "test1"
  },
  "language_info": {
   "codemirror_mode": {
    "name": "ipython",
    "version": 3
   },
   "file_extension": ".py",
   "mimetype": "text/x-python",
   "name": "python",
   "nbconvert_exporter": "python",
   "pygments_lexer": "ipython3",
   "version": "3.8.19"
  }
 },
 "nbformat": 4,
 "nbformat_minor": 5
}
